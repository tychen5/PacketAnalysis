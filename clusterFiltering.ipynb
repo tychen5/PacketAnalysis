{
 "cells": [
  {
   "cell_type": "code",
   "execution_count": null,
   "metadata": {},
   "outputs": [],
   "source": [
    "import pickle as pk\n",
    "import numpy as np\n",
    "import time\n",
    "import re\n",
    "%run TcpPayloadConverter.ipynb\n",
    "%run Cluster.ipynb"
   ]
  },
  {
   "cell_type": "code",
   "execution_count": null,
   "metadata": {},
   "outputs": [],
   "source": [
    "class ClusterFilter:\n",
    "    def __init__(self, isp, cluster_overview_df):\n",
    "        self.isp = isp\n",
    "        self.df = cluster_overview_df\n",
    "    def checkClusterPayload(self, clusterPayload):\n",
    "        noise_regex_1 = b'.*comment=.*'\n",
    "        for payload in clusterPayload[0]:\n",
    "            if re.match(noise_regex_1, payload):\n",
    "                return True\n",
    "                break\n",
    "        return False\n",
    "    def getClusterSessionTimeList(self, date, protocol, clusterID, isp):\n",
    "        base_path = \"/home/antslab/NAS1_RAID6/pcap_inter/2020_01_\"\n",
    "        postfix = \"/\" + isp + \"/case_pickles/\"\n",
    "        timelist_regex = r'timelist\\w+#\\d+\\w+#\\d+.pkl'\n",
    "        session_time_dir = base_path + date + postfix\n",
    "        # find payload pickle file\n",
    "        session_time_file = [file for file in os.listdir(session_time_dir) if re.match(timelist_regex, file)]\n",
    "        for file in session_time_file:\n",
    "            if file.split(\"_\")[1] == protocol and file.split(\"#\")[2].split(\".\")[0] == clusterID:\n",
    "                session_time_path = os.path.join(session_time_dir, file)\n",
    "                with open(session_time_path, \"rb\")as f:\n",
    "                    session_time_list = pk.load(f)\n",
    "                break\n",
    "        return session_time_list\n",
    "    def getClusterPayloadList(self):\n",
    "        cluster_list = []\n",
    "        cluster_set = self.df[\"idx\"]\n",
    "        for cluster in cluster_set:\n",
    "            s_time = time.time()\n",
    "            protocol = cluster.split(\"_\")[-1]\n",
    "            date = cluster.split(\"_\")[0][-2:]\n",
    "            clusterID = cluster.split(\"_\")[1]\n",
    "            session_time_list = self.getClusterSessionTimeList(date, protocol, clusterID, isp)\n",
    "            t = TcpPayloadConverter(date, isp, session_time_list)\n",
    "            cluster_key_payload = t.getPayload()\n",
    "            c = Cluster(cluster, cluster_key_payload)\n",
    "            cluster_list.append(c)\n",
    "        return cluster_list\n",
    "    def filtering(self, cluster_list):\n",
    "        noise_cluster = []\n",
    "        denoise_cluster = []\n",
    "        for cluster in cluster_list:\n",
    "            isNoise = self.checkClusterPayload(cluster.clusterPayload)\n",
    "            if isNoise:\n",
    "                noise_cluster.append(cluster.id)\n",
    "            else:\n",
    "                denoise_cluster.append(cluster.id)\n",
    "        return noise_cluster, denoise_cluster\n",
    "    def saveClusterPayload(self, cluster_list):\n",
    "        isp = self.isp\n",
    "        # save clusters\n",
    "        with open(\"./pickle/\"+ isp + \"_clusters_correlateIP_0.9.pkl\", \"wb\")as file:\n",
    "            pk.dump(cluster_list, file)"
   ]
  },
  {
   "cell_type": "code",
   "execution_count": null,
   "metadata": {},
   "outputs": [],
   "source": [
    "isp = \"中華電信\"\n",
    "with open (\"/home/antslab/NAS1_RAID6/pcap_inter/2020_01_06/\" + isp + \"/case_pickles/clusterName_overview_denoise_df_20200106_20200112.pkl\", \"rb\")as file:\n",
    "    cluster_overview_df = pk.load(file)\n",
    "cf = ClusterFilter(isp, cluster_overview_df)\n",
    "cluster_list = cf.getClusterPayloadList()\n",
    "cf.saveClusterPayload(cluster_list)\n",
    "noise_cluster, denoise_cluster = cf.filtering(cluster_list)\n",
    "#save noise and denoise cluster\n",
    "with open(\"/home/antslab/NAS1_RAID6/pcap_inter/2020_01_06/\" + isp + \"/case_pickles/noise_cluster.pkl\", \"wb\")as file:\n",
    "    pk.dump(noise_cluster, file)\n",
    "with open(\"/home/antslab/NAS1_RAID6/pcap_inter/2020_01_06/\" + isp + \"/case_pickles/denoise_cluster.pkl\", \"wb\")as file:\n",
    "    pk.dump(denoise_cluster, file)"
   ]
  },
  {
   "cell_type": "code",
   "execution_count": null,
   "metadata": {},
   "outputs": [],
   "source": []
  }
 ],
 "metadata": {
  "kernelspec": {
   "display_name": "Python 3",
   "language": "python",
   "name": "python3"
  },
  "language_info": {
   "codemirror_mode": {
    "name": "ipython",
    "version": 3
   },
   "file_extension": ".py",
   "mimetype": "text/x-python",
   "name": "python",
   "nbconvert_exporter": "python",
   "pygments_lexer": "ipython3",
   "version": "3.7.7"
  }
 },
 "nbformat": 4,
 "nbformat_minor": 4
}
