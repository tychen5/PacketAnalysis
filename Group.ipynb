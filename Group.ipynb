{
 "cells": [
  {
   "cell_type": "code",
   "execution_count": 1,
   "metadata": {},
   "outputs": [],
   "source": [
    "class Group:\n",
    "    def __init__(self, groupID, number_of_session, number_of_cluster, \n",
    "                 number_of_protocol, src_ips, number_of_ip,\n",
    "                 group_clusters_id, number_of_country, countries):\n",
    "        self.id = groupID\n",
    "        self.number_of_session = number_of_session\n",
    "        self.number_of_cluster = number_of_cluster\n",
    "        self.number_of_protocol = number_of_protocol\n",
    "        self.src_ips = src_ips\n",
    "        self.number_of_ip = number_of_ip\n",
    "        self.group_clusters_id = group_clusters_id\n",
    "        self.number_of_country = number_of_country\n",
    "        self.countries = countries"
   ]
  },
  {
   "cell_type": "code",
   "execution_count": null,
   "metadata": {},
   "outputs": [],
   "source": []
  }
 ],
 "metadata": {
  "kernelspec": {
   "display_name": "Python 3",
   "language": "python",
   "name": "python3"
  },
  "language_info": {
   "codemirror_mode": {
    "name": "ipython",
    "version": 3
   },
   "file_extension": ".py",
   "mimetype": "text/x-python",
   "name": "python",
   "nbconvert_exporter": "python",
   "pygments_lexer": "ipython3",
   "version": "3.7.7"
  }
 },
 "nbformat": 4,
 "nbformat_minor": 4
}
